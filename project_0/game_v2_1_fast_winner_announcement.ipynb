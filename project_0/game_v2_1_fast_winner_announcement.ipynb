{
 "cells": [
  {
   "cell_type": "markdown",
   "metadata": {},
   "source": [
    "# Игра \"Угадай число\": соревнование двух алгоритмов"
   ]
  },
  {
   "cell_type": "markdown",
   "metadata": {},
   "source": [
    "### Импортируем функции из библиотеки"
   ]
  },
  {
   "cell_type": "code",
   "execution_count": 3,
   "metadata": {},
   "outputs": [],
   "source": [
    "'''\n",
    "\"Хороший тон\" - сначала явным образом импортировать из другого файла функции, \n",
    "а затем их применять без указания наименования содержащего их файла\n",
    "\n",
    "'''\n",
    "\n",
    "from game_v2_1_fast import winner_announcement"
   ]
  },
  {
   "cell_type": "markdown",
   "metadata": {},
   "source": [
    "### Угадываем рандомно, обращаясь к импортированным функциям\n",
    "\n",
    "### И сразу выводим результаты соревнования"
   ]
  },
  {
   "cell_type": "code",
   "execution_count": 4,
   "metadata": {},
   "outputs": [
    {
     "name": "stdout",
     "output_type": "stream",
     "text": [
      "\n",
      "СРАВНЕНИЕ АЛГОРИТМОВ УГАДЫВАНИЯ ЧИСЛА ИЗ ДИАПАЗОНА 1-100\n",
      "\n",
      "Алгоритмы: \n",
      "     1. Случайный выбор числа \n",
      "     2. МОЙ АЛГОРИТМ: Поиск числа делением диапазона пополам\n",
      "\n",
      "1. Случайный выбор числа:\n",
      "Этот аглоритм угадывает число в среднем за 98 попыток\n",
      "\n",
      "2. Поиск числа делением диапазона:\n",
      "Этот аглоритм угадывает число в среднем за 6 попыток\n",
      "\n",
      "В соревновании победил алгоритм \"Поиск числа делением диапазона\" со счетом 6 против 98\n",
      "\n",
      "Результат победителя \"Поиск числа делением диапазона\" потрясает мир и затмевает Солнце своим сиянием!\n",
      "\n"
     ]
    }
   ],
   "source": [
    "'''\n",
    "Если бы мы не импортировали функции явным образом, то их вызов в коде выглядел бы так: \n",
    "game_v2_FAST.score_game(game_v2_FAST.random_predict) \n",
    "Но в этом ноутбуке мы применили импорт, поэтому именные ссылки в коде уже не нужны\n",
    "Явный импорт функций упрощает вид основной кодовой части.\n",
    "\n",
    "'''\n",
    "\n",
    "winner_announcement()"
   ]
  }
 ],
 "metadata": {
  "interpreter": {
   "hash": "d66679b56c5b60daf0307b7f89015989cc3279155da2823e9ad6ae872ae0d58e"
  },
  "kernelspec": {
   "display_name": "Python 3.9.7 64-bit ('SF_DS_1_P397_211218': conda)",
   "language": "python",
   "name": "python3"
  },
  "language_info": {
   "codemirror_mode": {
    "name": "ipython",
    "version": 3
   },
   "file_extension": ".py",
   "mimetype": "text/x-python",
   "name": "python",
   "nbconvert_exporter": "python",
   "pygments_lexer": "ipython3",
   "version": "3.9.7"
  },
  "orig_nbformat": 4
 },
 "nbformat": 4,
 "nbformat_minor": 2
}
