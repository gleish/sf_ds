{
 "cells": [
  {
   "cell_type": "markdown",
   "metadata": {},
   "source": [
    "# Игра \"Угадай число\": соревнование двух алгоритмов"
   ]
  },
  {
   "cell_type": "markdown",
   "metadata": {},
   "source": [
    "### Импортируем функции из библиотеки"
   ]
  },
  {
   "cell_type": "code",
   "execution_count": 1,
   "metadata": {},
   "outputs": [],
   "source": [
    "'''\n",
    "\"Хороший тон\" - сначала явным образом импортировать из другого файла функции, \n",
    "а затем их применять без указания наименования содержащего их файла\n",
    "\n",
    "'''\n",
    "\n",
    "from game_v2_1_fast import random_predict\n",
    "from game_v2_1_fast import devision_predict\n",
    "from game_v2_1_fast import score_game\n",
    "import numpy as np"
   ]
  },
  {
   "cell_type": "markdown",
   "metadata": {},
   "source": [
    "### Угадываем рандомно, обращаясь к импортированным функциям\n",
    "\n",
    "### И сразу выводим результаты соревнования"
   ]
  },
  {
   "cell_type": "code",
   "execution_count": 2,
   "metadata": {},
   "outputs": [
    {
     "name": "stdout",
     "output_type": "stream",
     "text": [
      "\n",
      "СРАВНЕНИЕ АЛГОРИТМОВ УГАДЫВАНИЯ ЧИСЛА ИЗ ДИАПАЗОНА\n",
      "\n",
      "Алгоритмы: \n",
      "     1. Случайный выбор числа \n",
      "     2. МОЙ АЛГОРИТМ: Поиск числа делением диапазона пополам\n",
      "\n",
      "1. Случайный выбор числа:\n",
      "Этот аглоритм угадывает число в среднем за 99 попыток\n",
      "\n",
      "2. Поиск числа делением диапазона:\n",
      "Этот аглоритм угадывает число в среднем за 6 попыток\n",
      "\n",
      "В соревновании победил алгоритм \"Поиск числа делением диапазона\" со счетом 6 против 99\n",
      "\n",
      "Результат победителя \"Поиск числа делением диапазона\" потрясает мир и затмевает Солнце своим сиянием!\n",
      "\n"
     ]
    }
   ],
   "source": [
    "'''\n",
    "Если бы мы не импортировали функции явным образом, то их вызов в коде выглядел бы так: \n",
    "game_v2_FAST.score_game(game_v2_FAST.random_predict) \n",
    "Но в этом ноутбуке мы применили импорт, поэтому именные ссылки в коде уже не нужны\n",
    "Явный импорт функций упрощает вид основной кодовой части.\n",
    "\n",
    "'''\n",
    "\n",
    "'''\n",
    "Ниже представлен код вывода информации о победителе и результатах.\n",
    "\n",
    "Изначально я хотел импортировать в ноутбук из файла Python уже готовую функцию winner_announcement(), \n",
    "в которой проделывается все, что совершается в коде ниже. \n",
    "\n",
    "Но по непонятным причинам она импортироваться не захотела.\n",
    "Соответственно, не удалось с ее помощью, то есь командой в одну строку, и что-либо вывести.\n",
    "С этим еще нужно будет разбираться. \n",
    "\n",
    "Итогом стало то, что ниже демонстрируется возможность работы с кодом Python в файле Jupiter Notebook.\n",
    "\n",
    "'''\n",
    "\n",
    "print()\n",
    "print('СРАВНЕНИЕ АЛГОРИТМОВ УГАДЫВАНИЯ ЧИСЛА ИЗ ДИАПАЗОНА')\n",
    "print()\n",
    "print('Алгоритмы: \\n     1. Случайный выбор числа \\n     2. МОЙ АЛГОРИТМ: Поиск числа делением диапазона пополам')\n",
    "print()\n",
    "    \n",
    "print(\"1. Случайный выбор числа:\")\n",
    "#score_game(random_predict)\n",
    "res_1 = score_game(random_predict)\n",
    "print()\n",
    "print(\"2. Поиск числа делением диапазона:\")\n",
    "#score_game(devision_predict)\n",
    "res_2 = score_game(devision_predict)\n",
    "print()\n",
    "        \n",
    "if res_2 < res_1:\n",
    "    winner_name = '\"Поиск числа делением диапазона\"'\n",
    "    winner_count = res_2\n",
    "    looser_count = res_1\n",
    "elif res_1 < res_2:\n",
    "    winner_name = '\"Случайный выбор числа\"'\n",
    "    winner_count = res_1\n",
    "    looser_count = res_2\n",
    "else: \n",
    "    winner_name = 'Спорт! И Дружба!'\n",
    "    \n",
    "print(f'В соревновании победил алгоритм {winner_name} со счетом {winner_count} против {looser_count}')\n",
    "print()\n",
    "        \n",
    "if res_2 < 20 or res_1 < 20:\n",
    "    verdict = 'очень хорош!'\n",
    "if res_2 < 14 or res_1 < 14:\n",
    "    verdict = 'великолепен!'\n",
    "if res_2 < 7 or res_1 < 7:\n",
    "    verdict = 'потрясает мир и затмевает Солнце своим сиянием!'\n",
    "    \n",
    "print(f'Результат победителя {winner_name} {verdict}')\n",
    "print()"
   ]
  }
 ],
 "metadata": {
  "interpreter": {
   "hash": "d66679b56c5b60daf0307b7f89015989cc3279155da2823e9ad6ae872ae0d58e"
  },
  "kernelspec": {
   "display_name": "Python 3.9.7 64-bit ('SF_DS_1_P397_211218': conda)",
   "language": "python",
   "name": "python3"
  },
  "language_info": {
   "codemirror_mode": {
    "name": "ipython",
    "version": 3
   },
   "file_extension": ".py",
   "mimetype": "text/x-python",
   "name": "python",
   "nbconvert_exporter": "python",
   "pygments_lexer": "ipython3",
   "version": "3.9.9"
  },
  "orig_nbformat": 4
 },
 "nbformat": 4,
 "nbformat_minor": 2
}
