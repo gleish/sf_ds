{
 "cells": [
  {
   "cell_type": "markdown",
   "metadata": {},
   "source": [
    "# Игра \"Угадай число\""
   ]
  },
  {
   "cell_type": "markdown",
   "metadata": {},
   "source": [
    "### Импортируем функции из библиотеки"
   ]
  },
  {
   "cell_type": "code",
   "execution_count": 15,
   "metadata": {},
   "outputs": [],
   "source": [
    "# Хороший тон - сначала импортировать из другого файла функции, \n",
    "# а затем их применять без указания наименования содержащего их файла\n",
    "from game_v2 import random_predict\n",
    "from game_v2 import score_game"
   ]
  },
  {
   "cell_type": "markdown",
   "metadata": {},
   "source": [
    "### Угадываем рандомно, обращаясь к импортированным функциям\n",
    "### Необходимость указывать перед ними название библиотеки исключена импортом выше"
   ]
  },
  {
   "cell_type": "code",
   "execution_count": 16,
   "metadata": {},
   "outputs": [
    {
     "name": "stdout",
     "output_type": "stream",
     "text": [
      "Ваш аглоритм угадывает число от 1 до 100 в среднем за 101 попыток\n"
     ]
    },
    {
     "data": {
      "text/plain": [
       "101"
      ]
     },
     "execution_count": 16,
     "metadata": {},
     "output_type": "execute_result"
    }
   ],
   "source": [
    "# game_v2.score_game(game_v2.random_predict) # \n",
    "score_game(random_predict)\n"
   ]
  }
 ],
 "metadata": {
  "interpreter": {
   "hash": "d66679b56c5b60daf0307b7f89015989cc3279155da2823e9ad6ae872ae0d58e"
  },
  "kernelspec": {
   "display_name": "Python 3.9.7 64-bit ('SF_DS_1_P397_211218': conda)",
   "language": "python",
   "name": "python3"
  },
  "language_info": {
   "codemirror_mode": {
    "name": "ipython",
    "version": 3
   },
   "file_extension": ".py",
   "mimetype": "text/x-python",
   "name": "python",
   "nbconvert_exporter": "python",
   "pygments_lexer": "ipython3",
   "version": "3.9.7"
  },
  "orig_nbformat": 4
 },
 "nbformat": 4,
 "nbformat_minor": 2
}
